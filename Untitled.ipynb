{
 "cells": [
  {
   "cell_type": "code",
   "execution_count": 89,
   "metadata": {},
   "outputs": [
    {
     "data": {
      "text/html": [
       "<div>\n",
       "<style scoped>\n",
       "    .dataframe tbody tr th:only-of-type {\n",
       "        vertical-align: middle;\n",
       "    }\n",
       "\n",
       "    .dataframe tbody tr th {\n",
       "        vertical-align: top;\n",
       "    }\n",
       "\n",
       "    .dataframe thead th {\n",
       "        text-align: right;\n",
       "    }\n",
       "</style>\n",
       "<table border=\"1\" class=\"dataframe\">\n",
       "  <thead>\n",
       "    <tr style=\"text-align: right;\">\n",
       "      <th></th>\n",
       "      <th>Machine/Devices</th>\n",
       "      <th>Per day cons</th>\n",
       "      <th>Avg cons</th>\n",
       "      <th>co2_emissions</th>\n",
       "      <th>rank</th>\n",
       "    </tr>\n",
       "  </thead>\n",
       "  <tbody>\n",
       "    <tr>\n",
       "      <th>0</th>\n",
       "      <td>Computers</td>\n",
       "      <td>200.0</td>\n",
       "      <td>72000.0</td>\n",
       "      <td>259200000.0</td>\n",
       "      <td>1</td>\n",
       "    </tr>\n",
       "    <tr>\n",
       "      <th>1</th>\n",
       "      <td>Mini Computer</td>\n",
       "      <td>100.0</td>\n",
       "      <td>36000.0</td>\n",
       "      <td>129600000.0</td>\n",
       "      <td>2</td>\n",
       "    </tr>\n",
       "    <tr>\n",
       "      <th>4</th>\n",
       "      <td>Printers (A4)</td>\n",
       "      <td>50.0</td>\n",
       "      <td>18000.0</td>\n",
       "      <td>64800000.0</td>\n",
       "      <td>5</td>\n",
       "    </tr>\n",
       "  </tbody>\n",
       "</table>\n",
       "</div>"
      ],
      "text/plain": [
       "  Machine/Devices  Per day cons  Avg cons  co2_emissions  rank\n",
       "0       Computers         200.0   72000.0    259200000.0     1\n",
       "1   Mini Computer         100.0   36000.0    129600000.0     2\n",
       "4   Printers (A4)          50.0   18000.0     64800000.0     5"
      ]
     },
     "execution_count": 89,
     "metadata": {},
     "output_type": "execute_result"
    }
   ],
   "source": [
    "import pandas\n",
    "import numpy as np\n",
    "working_hours = 6\n",
    "data = pandas.read_excel('products_database.xlsx', sheet_name='Products')\n",
    "df = pandas.DataFrame(data)\n",
    "df['Avg cons'] = df['Per day cons'] * 360\n",
    "df['co2_emissions'] = working_hours * 600 * df['Avg cons']\n",
    "df['rank'] = df.index + 1\n",
    "df = df.sort_values(by='co2_emissions', ascending=False)\n",
    "df = df.iloc[:3]\n",
    "\n",
    "df"
   ]
  },
  {
   "cell_type": "code",
   "execution_count": null,
   "metadata": {},
   "outputs": [],
   "source": []
  },
  {
   "cell_type": "code",
   "execution_count": null,
   "metadata": {},
   "outputs": [],
   "source": []
  }
 ],
 "metadata": {
  "kernelspec": {
   "display_name": "Python 3",
   "language": "python",
   "name": "python3"
  },
  "language_info": {
   "codemirror_mode": {
    "name": "ipython",
    "version": 3
   },
   "file_extension": ".py",
   "mimetype": "text/x-python",
   "name": "python",
   "nbconvert_exporter": "python",
   "pygments_lexer": "ipython3",
   "version": "3.8.5"
  }
 },
 "nbformat": 4,
 "nbformat_minor": 4
}
