{
 "cells": [
  {
   "cell_type": "code",
   "execution_count": 86,
   "metadata": {},
   "outputs": [
    {
     "ename": "AttributeError",
     "evalue": "'dict' object has no attribute 'append'",
     "output_type": "error",
     "traceback": [
      "\u001b[1;31m---------------------------------------------------------------------------\u001b[0m",
      "\u001b[1;31mAttributeError\u001b[0m                            Traceback (most recent call last)",
      "\u001b[1;32m<ipython-input-86-bce938d2a5d0>\u001b[0m in \u001b[0;36m<module>\u001b[1;34m\u001b[0m\n\u001b[0;32m     19\u001b[0m         \u001b[1;34m'rank'\u001b[0m \u001b[1;33m:\u001b[0m \u001b[0mindex\u001b[0m\u001b[1;33m+\u001b[0m\u001b[1;36m1\u001b[0m\u001b[1;33m\u001b[0m\u001b[1;33m\u001b[0m\u001b[0m\n\u001b[0;32m     20\u001b[0m     }\n\u001b[1;32m---> 21\u001b[1;33m     \u001b[0mnew_dict\u001b[0m\u001b[1;33m.\u001b[0m\u001b[0mappend\u001b[0m\u001b[1;33m(\u001b[0m\u001b[0mdicto\u001b[0m\u001b[1;33m)\u001b[0m\u001b[1;33m\u001b[0m\u001b[1;33m\u001b[0m\u001b[0m\n\u001b[0m\u001b[0;32m     22\u001b[0m \u001b[1;33m\u001b[0m\u001b[0m\n\u001b[0;32m     23\u001b[0m \u001b[0mnew_dict\u001b[0m\u001b[1;33m\u001b[0m\u001b[1;33m\u001b[0m\u001b[0m\n",
      "\u001b[1;31mAttributeError\u001b[0m: 'dict' object has no attribute 'append'"
     ]
    }
   ],
   "source": [
    "import pandas\n",
    "import numpy as np\n",
    "working_hours = 6\n",
    "data = pandas.read_excel('products_database.xlsx', sheet_name='Products')\n",
    "df = pandas.DataFrame(data)\n",
    "df['Avg cons'] = df['Per day cons'] * 360\n",
    "df['co2_emissions'] = working_hours * 600 * df['Avg cons']\n",
    "df['rank'] = df.index + 1\n",
    "df = df.sort_values(by='co2_emissions', ascending=False)\n",
    "df = df.iloc[:3]\n",
    "sorted_list = df.values.tolist()\n",
    "new_dict = []\n",
    "\n",
    "for index, my_row in enumerate(sorted_list):\n",
    "    dicto = {\n",
    "        'product' : my_row[0],\n",
    "        'avg_energy_cons' : my_row[1],\n",
    "        'co2_emissions' : my_row[2],\n",
    "        'rank' : index+1\n",
    "    }\n",
    "    new_dict.append(dicto)\n",
    "\n",
    "new_dict    \n"
   ]
  },
  {
   "cell_type": "code",
   "execution_count": null,
   "metadata": {},
   "outputs": [],
   "source": []
  },
  {
   "cell_type": "code",
   "execution_count": null,
   "metadata": {},
   "outputs": [],
   "source": []
  }
 ],
 "metadata": {
  "kernelspec": {
   "display_name": "Python 3",
   "language": "python",
   "name": "python3"
  },
  "language_info": {
   "codemirror_mode": {
    "name": "ipython",
    "version": 3
   },
   "file_extension": ".py",
   "mimetype": "text/x-python",
   "name": "python",
   "nbconvert_exporter": "python",
   "pygments_lexer": "ipython3",
   "version": "3.8.5"
  }
 },
 "nbformat": 4,
 "nbformat_minor": 4
}
